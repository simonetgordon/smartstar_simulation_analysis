{
 "cells": [
  {
   "cell_type": "code",
   "execution_count": 1,
   "metadata": {},
   "outputs": [
    {
     "name": "stdout",
     "output_type": "stream",
     "text": [
      "Defaulting to user installation because normal site-packages is not writeable\n",
      "Requirement already satisfied: scipy in /home/sgordon/.local/lib/python3.10/site-packages (1.11.3)\n",
      "Requirement already satisfied: numpy<1.28.0,>=1.21.6 in /home/sgordon/.local/lib/python3.10/site-packages (from scipy) (1.26.1)\n",
      "Note: you may need to restart the kernel to use updated packages.\n",
      "Defaulting to user installation because normal site-packages is not writeable\n",
      "Requirement already satisfied: ipyparallel in /home/sgordon/.local/lib/python3.10/site-packages (8.6.1)\n",
      "Requirement already satisfied: python-dateutil>=2.1 in /home/sgordon/.local/lib/python3.10/site-packages (from ipyparallel) (2.8.2)\n",
      "Requirement already satisfied: pyzmq>=18 in /home/sgordon/.local/lib/python3.10/site-packages (from ipyparallel) (25.1.0)\n",
      "Requirement already satisfied: ipython>=4 in /home/sgordon/.local/lib/python3.10/site-packages (from ipyparallel) (8.14.0)\n",
      "Requirement already satisfied: tqdm in /home/sgordon/.local/lib/python3.10/site-packages (from ipyparallel) (4.65.0)\n",
      "Requirement already satisfied: psutil in /home/sgordon/.local/lib/python3.10/site-packages (from ipyparallel) (5.9.5)\n",
      "Requirement already satisfied: decorator in /usr/lib/python3/dist-packages (from ipyparallel) (4.4.2)\n",
      "Requirement already satisfied: tornado>=5.1 in /home/sgordon/.local/lib/python3.10/site-packages (from ipyparallel) (6.3.2)\n",
      "Requirement already satisfied: jupyter-client in /home/sgordon/.local/lib/python3.10/site-packages (from ipyparallel) (8.3.0)\n",
      "Requirement already satisfied: traitlets>=4.3 in /home/sgordon/.local/lib/python3.10/site-packages (from ipyparallel) (5.9.0)\n",
      "Requirement already satisfied: entrypoints in /home/sgordon/.local/lib/python3.10/site-packages (from ipyparallel) (0.4)\n",
      "Requirement already satisfied: ipykernel>=4.4 in /home/sgordon/.local/lib/python3.10/site-packages (from ipyparallel) (6.23.3)\n",
      "Requirement already satisfied: jupyter-core!=5.0.*,>=4.12 in /home/sgordon/.local/lib/python3.10/site-packages (from ipykernel>=4.4->ipyparallel) (5.3.1)\n",
      "Requirement already satisfied: nest-asyncio in /home/sgordon/.local/lib/python3.10/site-packages (from ipykernel>=4.4->ipyparallel) (1.5.6)\n",
      "Requirement already satisfied: debugpy>=1.6.5 in /home/sgordon/.local/lib/python3.10/site-packages (from ipykernel>=4.4->ipyparallel) (1.6.7)\n",
      "Requirement already satisfied: matplotlib-inline>=0.1 in /home/sgordon/.local/lib/python3.10/site-packages (from ipykernel>=4.4->ipyparallel) (0.1.6)\n",
      "Requirement already satisfied: packaging in /usr/lib/python3/dist-packages (from ipykernel>=4.4->ipyparallel) (21.3)\n",
      "Requirement already satisfied: comm>=0.1.1 in /home/sgordon/.local/lib/python3.10/site-packages (from ipykernel>=4.4->ipyparallel) (0.1.3)\n",
      "Requirement already satisfied: backcall in /home/sgordon/.local/lib/python3.10/site-packages (from ipython>=4->ipyparallel) (0.2.0)\n",
      "Requirement already satisfied: prompt-toolkit!=3.0.37,<3.1.0,>=3.0.30 in /home/sgordon/.local/lib/python3.10/site-packages (from ipython>=4->ipyparallel) (3.0.38)\n",
      "Requirement already satisfied: pexpect>4.3 in /usr/lib/python3/dist-packages (from ipython>=4->ipyparallel) (4.8.0)\n",
      "Requirement already satisfied: stack-data in /home/sgordon/.local/lib/python3.10/site-packages (from ipython>=4->ipyparallel) (0.6.2)\n",
      "Requirement already satisfied: pygments>=2.4.0 in /usr/lib/python3/dist-packages (from ipython>=4->ipyparallel) (2.11.2)\n",
      "Requirement already satisfied: pickleshare in /home/sgordon/.local/lib/python3.10/site-packages (from ipython>=4->ipyparallel) (0.7.5)\n",
      "Requirement already satisfied: jedi>=0.16 in /home/sgordon/.local/lib/python3.10/site-packages (from ipython>=4->ipyparallel) (0.18.2)\n",
      "Requirement already satisfied: six>=1.5 in /usr/lib/python3/dist-packages (from python-dateutil>=2.1->ipyparallel) (1.16.0)\n",
      "Requirement already satisfied: parso<0.9.0,>=0.8.0 in /home/sgordon/.local/lib/python3.10/site-packages (from jedi>=0.16->ipython>=4->ipyparallel) (0.8.3)\n",
      "Requirement already satisfied: platformdirs>=2.5 in /home/sgordon/.local/lib/python3.10/site-packages (from jupyter-core!=5.0.*,>=4.12->ipykernel>=4.4->ipyparallel) (3.8.0)\n",
      "Requirement already satisfied: wcwidth in /usr/lib/python3/dist-packages (from prompt-toolkit!=3.0.37,<3.1.0,>=3.0.30->ipython>=4->ipyparallel) (0.2.5)\n",
      "Requirement already satisfied: asttokens>=2.1.0 in /home/sgordon/.local/lib/python3.10/site-packages (from stack-data->ipython>=4->ipyparallel) (2.2.1)\n",
      "Requirement already satisfied: executing>=1.2.0 in /home/sgordon/.local/lib/python3.10/site-packages (from stack-data->ipython>=4->ipyparallel) (1.2.0)\n",
      "Requirement already satisfied: pure-eval in /home/sgordon/.local/lib/python3.10/site-packages (from stack-data->ipython>=4->ipyparallel) (0.2.2)\n",
      "Note: you may need to restart the kernel to use updated packages.\n"
     ]
    }
   ],
   "source": [
    "%pip install scipy\n",
    "%pip install ipyparallel"
   ]
  },
  {
   "cell_type": "code",
   "execution_count": 2,
   "metadata": {},
   "outputs": [],
   "source": [
    "import os\n",
    "import glob\n",
    "from plot_toomre_q_projection import field_from_sliceplot\n",
    "from smartstar_find import ss_properties\n",
    "from helper_functions import _make_disk_L\n",
    "from plot_multi_projections import tidy_data_labels\n",
    "from yt.utilities.math_utils import ortho_find\n",
    "from plot_radial_profile_from_frb import extract_dd_segment, extract_simulation_name\n",
    "from find_fourier_modes import get_theta_values, find_bar_radius, extract_dd_number\n",
    "#from plot_density_slices_toomreq import find_fourier_modes_and_phase_angles\n",
    "from multiprocessing import Pool, cpu_count\n",
    "import numpy as np\n",
    "import matplotlib.pyplot as plt\n",
    "import matplotlib.cm as cm\n",
    "import yt"
   ]
  },
  {
   "cell_type": "code",
   "execution_count": 44,
   "metadata": {},
   "outputs": [
    {
     "name": "stderr",
     "output_type": "stream",
     "text": [
      "yt : [INFO     ] 2023-11-10 12:00:17,083 Parameters: current_time              = 13.947972812193\n",
      "yt : [INFO     ] 2023-11-10 12:00:17,085 Parameters: domain_dimensions         = [128 128 128]\n",
      "yt : [INFO     ] 2023-11-10 12:00:17,086 Parameters: domain_left_edge          = [0. 0. 0.]\n",
      "yt : [INFO     ] 2023-11-10 12:00:17,088 Parameters: domain_right_edge         = [1. 1. 1.]\n",
      "yt : [INFO     ] 2023-11-10 12:00:17,090 Parameters: cosmological_simulation   = 1\n",
      "yt : [INFO     ] 2023-11-10 12:00:17,091 Parameters: current_redshift          = 26.288105151196\n",
      "yt : [INFO     ] 2023-11-10 12:00:17,091 Parameters: omega_lambda              = 0.734\n",
      "yt : [INFO     ] 2023-11-10 12:00:17,092 Parameters: omega_matter              = 0.266\n",
      "yt : [INFO     ] 2023-11-10 12:00:17,093 Parameters: omega_radiation           = 0\n",
      "yt : [INFO     ] 2023-11-10 12:00:17,094 Parameters: hubble_constant           = 0.71\n",
      "Parsing Hierarchy : 100%|██████████| 2310/2310 [00:00<00:00, 15710.79it/s]\n",
      "yt : [INFO     ] 2023-11-10 12:00:17,352 Gathering a field list (this may take a moment.)\n"
     ]
    },
    {
     "name": "stdout",
     "output_type": "stream",
     "text": [
      "ds =  DD0140\n"
     ]
    },
    {
     "name": "stderr",
     "output_type": "stream",
     "text": [
      "yt : [INFO     ] 2023-11-10 12:01:09,607 xlim = -0.000004 0.000004\n",
      "yt : [INFO     ] 2023-11-10 12:01:09,609 ylim = -0.000004 0.000004\n",
      "yt : [INFO     ] 2023-11-10 12:01:09,614 Making a fixed resolution buffer of (('gas', 'density')) 800 by 800\n",
      "findfont: Font family ['serif'] not found. Falling back to DejaVu Sans.\n",
      "findfont: Generic family 'serif' not found because none of the following families were found: Times\n",
      "yt : [INFO     ] 2023-11-10 12:01:10,633 Making a fixed resolution buffer of (('gas', 'density')) 2048 by 2048\n",
      "yt : [INFO     ] 2023-11-10 12:01:11,016 Making a fixed resolution buffer of (radius) 2048 by 2048\n"
     ]
    }
   ],
   "source": [
    "def find_fourier_modes_and_phase_angles(radii, radius_pc, densities, theta, dV, dr=0.001, cylindrical_theta_velocity=None):\n",
    "    \"\"\"\n",
    "    Compute the m=1, 2 Fourier mode strengths and phase angles for a given annular region of a disk.\n",
    "    Input:\n",
    "        radii: list of radii for annular regions\n",
    "        radius_pc: 2D array of radii values for each cell in the disk\n",
    "        densities: 2D array of densities values for each cell in the disk\n",
    "        theta: 2D array of theta values for each cell in the disk\n",
    "        dV: volume of each cell in the disk\n",
    "        dr: thickness of annular regions\n",
    "    Output:\n",
    "        m1_strengths: list of m=1 Fourier mode strengths for each annular region\n",
    "        m2_strengths: list of m=2 Fourier mode strengths for each annular region\n",
    "        phi_1_values: list of m=1 Fourier mode phase angles for each annular region\n",
    "        phi_2_values: list of m=2 Fourier mode phase angles for each annular region\n",
    "    \"\"\"\n",
    "    m1_strengths = []\n",
    "    m2_strengths = []\n",
    "    phi_1_values = []\n",
    "    phi_2_values = []\n",
    "    angular_speeds = []\n",
    "    for r in radii:\n",
    "        # Define mask for annular region\n",
    "        mask = (radius_pc >= r) & (radius_pc < r + dr)\n",
    "\n",
    "        # Get densities and thetas for this annular region, where 0 < theta < 2pi - all same shape (713,)\n",
    "        masked_densities = densities[mask]\n",
    "        theta_2d = np.tile(theta, (densities.shape[0], 1))\n",
    "        masked_theta = theta_2d[mask]\n",
    "        if cylindrical_theta_velocity is not None:\n",
    "            masked_theta_vel = cylindrical_theta_velocity[mask]\n",
    "            angular_speed = masked_theta_vel / (r*yt.units.pc).to(\"cm\")\n",
    "            angular_speeds.append(angular_speed)\n",
    "\n",
    "        # Compute the mass-equivalent for each cell in this region\n",
    "        mass_equivalent = masked_densities * dV\n",
    "\n",
    "        # Compute a and b coefficients for m=2 and m=1 modes\n",
    "        a_2 = np.sum(mass_equivalent * np.cos(2 * masked_theta))\n",
    "        b_2 = np.sum(mass_equivalent * np.sin(2 * masked_theta))\n",
    "        a_1 = np.sum(mass_equivalent * np.cos(masked_theta))\n",
    "        b_1 = np.sum(mass_equivalent * np.sin(masked_theta))\n",
    "\n",
    "        # Compute A_0 for this region\n",
    "        A_0 = np.sum(mass_equivalent)\n",
    "\n",
    "        # Compute Fourier modes for this region\n",
    "        A_2 = np.sqrt(a_2**2 + b_2**2)\n",
    "        A_1 = np.sqrt(a_1**2 + b_1**2)\n",
    "\n",
    "        # Normalise the Fourier mode strengths for this region\n",
    "        m2_strength = A_2 / A_0 if A_0 != 0 else 0\n",
    "        m1_strength = A_1 / A_0 if A_0 != 0 else 0\n",
    "        m2_strengths.append(m2_strength)\n",
    "        m1_strengths.append(m1_strength)\n",
    "\n",
    "        # Compute the phase angle phi_2 for this region\n",
    "        phi_2 = 0.5 * np.degrees(np.arctan2(b_2, a_2).value) # -90 < phi_2 < 90\n",
    "        phi_1 = np.degrees(np.arctan2(b_1, a_1).value) # -180 < phi_1 < 180\n",
    "        phi_2_values.append(phi_2)\n",
    "        phi_1_values.append(phi_1)\n",
    "    \n",
    "    if cylindrical_theta_velocity is not None:\n",
    "        return m1_strengths, m2_strengths, phi_1_values, phi_2_values, angular_speeds\n",
    "    \n",
    "    return m1_strengths, m2_strengths, phi_1_values, phi_2_values\n",
    "\n",
    "# Inspecting theta values\n",
    "ds = yt.load(\"/ceph/cephfs/sgordon/pleiades/seed1-bh-only/270msun/replicating-beckmann/1B.m16-4dx/DD0140/DD0140\")\n",
    "dx = ds.index.get_smallest_dx().to(\"pc\")\n",
    "center, ss_mass, ss_age = ss_properties(ds, velocity=False)\n",
    "radii = np.arange(0.001, 0.1, 0.001)\n",
    "disc_h_pc = disc_r_pc = 0.1 # pc\n",
    "_, L = _make_disk_L(ds, center, disc_r_pc, disc_h_pc)\n",
    "vecs = ortho_find(L)\n",
    "dir = vecs[0]\n",
    "north = vecs[1]\n",
    "disc_r_pc_big = disc_h_pc_big = 0.2 # pc\n",
    "disk = ds.disk(center, L, disc_r_pc_big, disc_h_pc_big)\n",
    "density, radius_pc = field_from_sliceplot(\"density\", ds, disk, center,0.2, north, dir, npixels=2048, radius=True)\n",
    "surface_density_polar = density * dx # g/cm^2\n",
    "num_theta = surface_density_polar.shape[1]\n",
    "theta_values = np.linspace(0, 2*np.pi, num_theta, endpoint=False)\n"
   ]
  },
  {
   "cell_type": "code",
   "execution_count": 51,
   "metadata": {},
   "outputs": [
    {
     "data": {
      "text/plain": [
       "unyt_quantity(0.00029643, 'pc')"
      ]
     },
     "execution_count": 51,
     "metadata": {},
     "output_type": "execute_result"
    }
   ],
   "source": [
    "surface_density_polar[1024][1024]\n",
    "radius_pc[1025][1025]"
   ]
  },
  {
   "cell_type": "code",
   "execution_count": 71,
   "metadata": {},
   "outputs": [
    {
     "data": {
      "text/plain": [
       "unyt_quantity(2.45459541e-22, 'g/cm**3')"
      ]
     },
     "execution_count": 71,
     "metadata": {},
     "output_type": "execute_result"
    }
   ],
   "source": [
    "density[1029][1029]"
   ]
  },
  {
   "cell_type": "code",
   "execution_count": 70,
   "metadata": {},
   "outputs": [
    {
     "data": {
      "text/plain": [
       "unyt_quantity(5.17654469e-16, 'g/cm**3')"
      ]
     },
     "execution_count": 70,
     "metadata": {},
     "output_type": "execute_result"
    }
   ],
   "source": [
    "density.max()"
   ]
  },
  {
   "cell_type": "code",
   "execution_count": 75,
   "metadata": {},
   "outputs": [
    {
     "data": {
      "text/plain": [
       "0.28366218546322625"
      ]
     },
     "execution_count": 75,
     "metadata": {},
     "output_type": "execute_result"
    }
   ],
   "source": [
    "np.cos(th)"
   ]
  },
  {
   "cell_type": "code",
   "execution_count": 54,
   "metadata": {},
   "outputs": [
    {
     "data": {
      "text/plain": [
       "(2048, 2048)"
      ]
     },
     "execution_count": 54,
     "metadata": {},
     "output_type": "execute_result"
    }
   ],
   "source": [
    "\n",
    "def calculate_theta_array(dimensions):\n",
    "    # Create an empty array of the same dimensions\n",
    "    theta_array = np.zeros(dimensions)\n",
    "\n",
    "    # Calculate the center of the array\n",
    "    center_x, center_y = dimensions[0] // 2, dimensions[1] // 2\n",
    "\n",
    "    # Iterate over each pixel\n",
    "    for x in range(dimensions[0]):\n",
    "        for y in range(dimensions[1]):\n",
    "            # Calculate the relative positions\n",
    "            rel_x, rel_y = x - center_x, y - center_y\n",
    "\n",
    "            # Calculate the angle and adjust to ensure 0 is 'north'\n",
    "            theta = np.arctan2(rel_y, rel_x) + np.pi / 2 # radians\n",
    "\n",
    "            # Normalize the angle to be between 0 and 2pi\n",
    "            theta = theta % (2 * np.pi)\n",
    "\n",
    "            # Assign the calculated theta to the array\n",
    "            theta_array[x, y] = theta\n",
    "\n",
    "    return theta_array\n",
    "\n",
    "# Calculate the theta array for a 2048 x 2048 disc\n",
    "theta_array = calculate_theta_array((2048, 2048))\n",
    "\n",
    "# Check a small section of the array to verify\n",
    "theta_array.shape\n"
   ]
  },
  {
   "cell_type": "code",
   "execution_count": 14,
   "metadata": {},
   "outputs": [],
   "source": [
    "def process_ds(ds, disc_r_pc, find_cylindrical_velocity=False):\n",
    "    disc_r_pc = 0.1 # pc\n",
    "    find_cylindrical_velocity = True\n",
    "    # identify simulation name and label\n",
    "    sim_label = tidy_data_labels(extract_simulation_name(ds.directory))\n",
    "    print(\"Processing \" + str(sim_label) + \" \" + str(extract_dd_segment(ds.directory)))\n",
    "\n",
    "    # [Your code for setting up disk, radii, etc.]\n",
    "    # Grab bh properties and define center, width and resolution of sliceplots\n",
    "    ss_pos, ss_mass, ss_age = ss_properties(ds, velocity=False)\n",
    "    center = ss_pos\n",
    "    width_pc = 0.2\n",
    "    npixels = 2048\n",
    "\n",
    "    # Obtain angular momentum vector from small disk and define larger disk for plotting\n",
    "    disc_h_pc = disc_r_pc\n",
    "    _, L = _make_disk_L(ds, center, disc_r_pc, disc_h_pc)\n",
    "    vecs = ortho_find(L)\n",
    "    dir = vecs[0]\n",
    "    north = vecs[1]\n",
    "    disc_r_pc_big = disc_h_pc_big = 0.6 # pc\n",
    "    disk = ds.disk(center, L, disc_r_pc_big, disc_h_pc_big)\n",
    "\n",
    "    # Obtain density and radius values for each cell in the disk\n",
    "    density, radius_pc = field_from_sliceplot(\"density\", ds, disk, center, width_pc, north, dir, npixels=npixels, radius=True)\n",
    "    dx = ds.index.get_smallest_dx().in_units('pc')\n",
    "    surface_density = density * dx # g/cm^2\n",
    "\n",
    "    # List of radii to define annular regions with thickness dr\n",
    "    dr = 0.001 # pc\n",
    "    dx = ds.index.get_smallest_dx().in_units('pc').d\n",
    "    dx = 0.0008\n",
    "    r_max_pc = 0.14 # pc \n",
    "    r_min = dx\n",
    "    r_max = r_max_pc\n",
    "    radii = np.arange(r_min, r_max + dr, dr)  # 141 annuli (fixed at this number)\n",
    "\n",
    "    # Compute theta values of each annulus\n",
    "    dV = dx**3\n",
    "    theta = get_theta_values(surface_density)\n",
    "    cylindrical_velocity_theta, radius_pc_theta = field_from_sliceplot(\"velocity_cylindrical_theta\", ds, disk, center, width_pc, north, dir, npixels=npixels, radius=True)\n",
    "\n",
    "    # Compute Fourier modes and phase angles in degrees (not radians), and store them\n",
    "    _, _, _, phi_2_values, angular_speeds = find_fourier_modes_and_phase_angles(radii, radius_pc, density, theta, dV, dr, cylindrical_velocity_theta)\n",
    "\n",
    "        \n",
    "    if find_cylindrical_velocity:\n",
    "        return phi_2_values, ss_age/1e6, radii, angular_speeds\n",
    "\n",
    "    return phi_2_values, ss_age/1e6, radii"
   ]
  },
  {
   "cell_type": "code",
   "execution_count": 64,
   "metadata": {},
   "outputs": [
    {
     "name": "stdout",
     "output_type": "stream",
     "text": [
      "Starting 3 engines with <class 'ipyparallel.cluster.launcher.LocalEngineSetLauncher'>\n"
     ]
    },
    {
     "data": {
      "application/vnd.jupyter.widget-view+json": {
       "model_id": "9df8f155a5a542a4af6357a9331b0696",
       "version_major": 2,
       "version_minor": 0
      },
      "text/plain": [
       "  0%|          | 0/3 [00:00<?, ?engine/s]"
      ]
     },
     "metadata": {},
     "output_type": "display_data"
    },
    {
     "name": "stdout",
     "output_type": "stream",
     "text": [
      "Stopping engine(s): 1699619174\n",
      "engine set stopped 1699619174: {'engines': {'0': {'exit_code': 0, 'pid': 3818324, 'identifier': '0'}, '1': {'exit_code': 0, 'pid': 3818335, 'identifier': '1'}, '2': {'exit_code': 0, 'pid': 3818347, 'identifier': '2'}}, 'exit_code': 0}\n",
      "Stopping controller\n",
      "Controller stopped: {'exit_code': 0, 'pid': 3817997, 'identifier': 'ipcontroller-1699619173-p72o-2719687'}\n"
     ]
    }
   ],
   "source": [
    "# This works!!!\n",
    "import ipyparallel as ipp\n",
    "\n",
    "def process_dataset(root_dir, sim, dd, disc_r_pc=0.1):\n",
    "    \"\"\"\n",
    "    Process a single dataset.\n",
    "    \"\"\"\n",
    "    # Import packages\n",
    "    import yt\n",
    "    import os\n",
    "    from find_corotation_radius import process_ds\n",
    "\n",
    "    # Load dataset\n",
    "    ds = yt.load(os.path.join(root_dir, sim, dd))\n",
    "\n",
    "    # Process dataset\n",
    "    phi_2_value, current_age, radiuses, angular_speed = process_ds(ds, disc_r_pc, find_cylindrical_velocity=True)\n",
    "\n",
    "    # Return results\n",
    "    return phi_2_value, current_age, radiuses, angular_speed\n",
    "\n",
    "\n",
    "def run_parallel_analysis(root_dir, sim, dds, n_cores=2):\n",
    "    \"\"\"\n",
    "    Run analysis in parallel using IPyParallel.\n",
    "    \"\"\"\n",
    "    with ipp.Cluster(n=n_cores) as rc:  # Adjust 'n' based on the number of engines you want\n",
    "        view = rc.load_balanced_view()\n",
    "\n",
    "        # Use map_sync to distribute the processing of datasets across the engines\n",
    "        results = view.map_sync(process_dataset, [root_dir]*len(dds), [sim]*len(dds), dds)\n",
    "\n",
    "    # Process results\n",
    "    phi_2_values, ages, radii, angular_speeds = zip(*results)\n",
    "    return list(phi_2_values), list(ages), list(radii), list(angular_speeds)\n",
    "\n",
    "\n",
    "# Usage\n",
    "root_dir = \"/ceph/cephfs/sgordon/pleiades/seed1-bh-only/270msun/replicating-beckmann/\"\n",
    "sim = \"1B.m16-4dx\"\n",
    "dds = [f\"DD0{i:03d}/DD0{i:03d}\" for i in range(198, 202)]\n",
    "n_cores = 3\n",
    "\n",
    "phi_2_values, ages, radii, angular_speeds = run_parallel_analysis(root_dir, sim, dds, n_cores)\n"
   ]
  },
  {
   "cell_type": "code",
   "execution_count": 65,
   "metadata": {},
   "outputs": [],
   "source": [
    "all_phi_2_values = phi_2_values\n",
    "all_ages = ages\n",
    "all_angular_speeds = angular_speeds\n",
    "all_radii = radii\n",
    "\n",
    "# Define all variables after MPI gather\n",
    "phi_2_values_array = [np.array(phi) for phi in all_phi_2_values] # list of arrays\n",
    "ages_array = np.array([age[0] for age in all_ages]) # list of floats\n",
    "angular_speed_means = [[np.mean(annulus) for annulus in dataset] for dataset in angular_speeds]\n",
    "\n",
    "#  Compute the difference between phi2 values at each snapshot\n",
    "delta_phi = np.array([phi_2_values_array[i] - phi_2_values_array[i+1] for i in range(len(phi_2_values_array)-1)])\n",
    "delta_t = np.array(np.diff(ages_array))\n",
    "pattern_speeds = delta_phi / delta_t[:, np.newaxis]\n",
    "conversion_factor = np.pi / (180 * 3.154e13) # from deg/Myr to rad/s\n",
    "pattern_speeds_radians_per_sec = pattern_speeds * conversion_factor\n"
   ]
  },
  {
   "cell_type": "code",
   "execution_count": 77,
   "metadata": {},
   "outputs": [
    {
     "data": {
      "text/plain": [
       "(141,)"
      ]
     },
     "execution_count": 77,
     "metadata": {},
     "output_type": "execute_result"
    }
   ],
   "source": [
    "phi_2_values_array[0].shape"
   ]
  },
  {
   "cell_type": "code",
   "execution_count": 118,
   "metadata": {},
   "outputs": [
    {
     "name": "stderr",
     "output_type": "stream",
     "text": [
      "/tmp/ipykernel_2719687/3258333468.py:6: MatplotlibDeprecationWarning: The get_cmap function was deprecated in Matplotlib 3.7 and will be removed two minor releases later. Use ``matplotlib.colormaps[name]`` or ``matplotlib.colormaps.get_cmap(obj)`` instead.\n",
      "  cmap = plt.cm.get_cmap('rainbow', n)\n"
     ]
    },
    {
     "ename": "TypeError",
     "evalue": "can't multiply sequence by non-int of type 'float'",
     "output_type": "error",
     "traceback": [
      "\u001b[0;31m---------------------------------------------------------------------------\u001b[0m",
      "\u001b[0;31mTypeError\u001b[0m                                 Traceback (most recent call last)",
      "\u001b[1;32m/cephfs/sgordon/smartstar_simulation_analysis/python_scripts/find_corotation_radius.ipynb Cell 13\u001b[0m line \u001b[0;36m1\n\u001b[1;32m     <a href='vscode-notebook-cell://ssh-remote%2Bcuillin/cephfs/sgordon/smartstar_simulation_analysis/python_scripts/find_corotation_radius.ipynb#X12sdnNjb2RlLXJlbW90ZQ%3D%3D?line=15'>16</a>\u001b[0m \u001b[39m## Plot data ##\u001b[39;00m\n\u001b[1;32m     <a href='vscode-notebook-cell://ssh-remote%2Bcuillin/cephfs/sgordon/smartstar_simulation_analysis/python_scripts/find_corotation_radius.ipynb#X12sdnNjb2RlLXJlbW90ZQ%3D%3D?line=16'>17</a>\u001b[0m \u001b[39m# Assuming angular_speed_means and pattern_speeds_radians_per_sec are lists\u001b[39;00m\n\u001b[1;32m     <a href='vscode-notebook-cell://ssh-remote%2Bcuillin/cephfs/sgordon/smartstar_simulation_analysis/python_scripts/find_corotation_radius.ipynb#X12sdnNjb2RlLXJlbW90ZQ%3D%3D?line=17'>18</a>\u001b[0m sec_to_yr \u001b[39m=\u001b[39m \u001b[39m3.154e7\u001b[39m  \u001b[39m# seconds in a year\u001b[39;00m\n\u001b[0;32m---> <a href='vscode-notebook-cell://ssh-remote%2Bcuillin/cephfs/sgordon/smartstar_simulation_analysis/python_scripts/find_corotation_radius.ipynb#X12sdnNjb2RlLXJlbW90ZQ%3D%3D?line=18'>19</a>\u001b[0m angular_speed_means \u001b[39m=\u001b[39m [speed \u001b[39m*\u001b[39m sec_to_yr \u001b[39mfor\u001b[39;00m speed \u001b[39min\u001b[39;00m angular_speed_means]\n\u001b[1;32m     <a href='vscode-notebook-cell://ssh-remote%2Bcuillin/cephfs/sgordon/smartstar_simulation_analysis/python_scripts/find_corotation_radius.ipynb#X12sdnNjb2RlLXJlbW90ZQ%3D%3D?line=19'>20</a>\u001b[0m pattern_speeds_radians_per_sec \u001b[39m=\u001b[39m [speed \u001b[39m*\u001b[39m sec_to_yr \u001b[39mfor\u001b[39;00m speed \u001b[39min\u001b[39;00m pattern_speeds_radians_per_sec]\n\u001b[1;32m     <a href='vscode-notebook-cell://ssh-remote%2Bcuillin/cephfs/sgordon/smartstar_simulation_analysis/python_scripts/find_corotation_radius.ipynb#X12sdnNjb2RlLXJlbW90ZQ%3D%3D?line=21'>22</a>\u001b[0m \u001b[39mfor\u001b[39;00m j \u001b[39min\u001b[39;00m \u001b[39mrange\u001b[39m(\u001b[39mlen\u001b[39m(angular_speed_means)):\n",
      "\u001b[1;32m/cephfs/sgordon/smartstar_simulation_analysis/python_scripts/find_corotation_radius.ipynb Cell 13\u001b[0m line \u001b[0;36m1\n\u001b[1;32m     <a href='vscode-notebook-cell://ssh-remote%2Bcuillin/cephfs/sgordon/smartstar_simulation_analysis/python_scripts/find_corotation_radius.ipynb#X12sdnNjb2RlLXJlbW90ZQ%3D%3D?line=15'>16</a>\u001b[0m \u001b[39m## Plot data ##\u001b[39;00m\n\u001b[1;32m     <a href='vscode-notebook-cell://ssh-remote%2Bcuillin/cephfs/sgordon/smartstar_simulation_analysis/python_scripts/find_corotation_radius.ipynb#X12sdnNjb2RlLXJlbW90ZQ%3D%3D?line=16'>17</a>\u001b[0m \u001b[39m# Assuming angular_speed_means and pattern_speeds_radians_per_sec are lists\u001b[39;00m\n\u001b[1;32m     <a href='vscode-notebook-cell://ssh-remote%2Bcuillin/cephfs/sgordon/smartstar_simulation_analysis/python_scripts/find_corotation_radius.ipynb#X12sdnNjb2RlLXJlbW90ZQ%3D%3D?line=17'>18</a>\u001b[0m sec_to_yr \u001b[39m=\u001b[39m \u001b[39m3.154e7\u001b[39m  \u001b[39m# seconds in a year\u001b[39;00m\n\u001b[0;32m---> <a href='vscode-notebook-cell://ssh-remote%2Bcuillin/cephfs/sgordon/smartstar_simulation_analysis/python_scripts/find_corotation_radius.ipynb#X12sdnNjb2RlLXJlbW90ZQ%3D%3D?line=18'>19</a>\u001b[0m angular_speed_means \u001b[39m=\u001b[39m [speed \u001b[39m*\u001b[39;49m sec_to_yr \u001b[39mfor\u001b[39;00m speed \u001b[39min\u001b[39;00m angular_speed_means]\n\u001b[1;32m     <a href='vscode-notebook-cell://ssh-remote%2Bcuillin/cephfs/sgordon/smartstar_simulation_analysis/python_scripts/find_corotation_radius.ipynb#X12sdnNjb2RlLXJlbW90ZQ%3D%3D?line=19'>20</a>\u001b[0m pattern_speeds_radians_per_sec \u001b[39m=\u001b[39m [speed \u001b[39m*\u001b[39m sec_to_yr \u001b[39mfor\u001b[39;00m speed \u001b[39min\u001b[39;00m pattern_speeds_radians_per_sec]\n\u001b[1;32m     <a href='vscode-notebook-cell://ssh-remote%2Bcuillin/cephfs/sgordon/smartstar_simulation_analysis/python_scripts/find_corotation_radius.ipynb#X12sdnNjb2RlLXJlbW90ZQ%3D%3D?line=21'>22</a>\u001b[0m \u001b[39mfor\u001b[39;00m j \u001b[39min\u001b[39;00m \u001b[39mrange\u001b[39m(\u001b[39mlen\u001b[39m(angular_speed_means)):\n",
      "\u001b[0;31mTypeError\u001b[0m: can't multiply sequence by non-int of type 'float'"
     ]
    },
    {
     "data": {
      "image/png": "[encoded data removed]",
      "text/plain": [
       "<Figure size 800x500 with 1 Axes>"
      ]
     },
     "metadata": {},
     "output_type": "display_data"
    }
   ],
   "source": [
    "from matplotlib.lines import Line2D\n",
    "fig, ax = plt.subplots(figsize=(8, 5))\n",
    "n = len(angular_speed_means)\n",
    "\n",
    "# Choose a colormap\n",
    "cmap = plt.cm.get_cmap('rainbow', n)\n",
    "# Create color list\n",
    "colors = [cmap(i) for i in range(cmap.N)]\n",
    "scalars = np.linspace(all_ages[0][0], all_ages[-1][0], n)\n",
    "norm = plt.Normalize(min(scalars), max(scalars))\n",
    "# Create a ScalarMappable and set array to the normalized values\n",
    "sm = cm.ScalarMappable(cmap=cmap, norm=norm)\n",
    "sm.set_array([])\n",
    "\n",
    "\n",
    "# Assuming angular_speed_means is a list of lists\n",
    "sec_to_yr = 3.154e7  # seconds in a year\n",
    "\n",
    "# Use a nested list comprehension to multiply each inner element by sec_to_yr\n",
    "angular_speed_means = [[speed * sec_to_yr for speed in sublist] for sublist in angular_speed_means]\n",
    "\n",
    "# Do the same for pattern_speeds_radians_per_sec if it has the same structure\n",
    "pattern_speeds_radians_per_sec = [[speed * sec_to_yr for speed in sublist] for sublist in pattern_speeds_radians_per_sec]\n",
    "\n",
    "\n",
    "## Plot data ##\n",
    "for j in range(len(angular_speed_means)):\n",
    "    ax.plot(all_radii[j], angular_speed_means[j], label=\"Disc Angular Speed\", linestyle=\"-\", color=cmap(norm(scalars[j])))\n",
    "for i in range(len(pattern_speeds)):\n",
    "    lim_ps = 19 # limit the number of pattern speed points plotted\n",
    "    ps = np.abs(pattern_speeds_radians_per_sec)[i][2:lim_ps]\n",
    "    ax.plot(all_radii[i+1][2:lim_ps+6], np.abs(pattern_speeds_radians_per_sec)[i][2:lim_ps+6]*sec_to_yr, label=\"Pattern Speed\", linestyle=\"dotted\", color=cmap(norm(scalars[i])))\n",
    "    ax.axhline(y=np.mean(ps), color=cmap(norm(scalars[i])), linestyle=\"--\")\n",
    "\n",
    "print(\"Minimum radius for pattern speed: \" + str(all_radii[0][2]))\n",
    "\n",
    "## Add colorbar ##\n",
    "cbar = plt.colorbar(sm, ticks=np.linspace(min(scalars), max(scalars), n), ax=ax)\n",
    "# Adjust the ticks and tick labels to start at the beginning of each color block\n",
    "tick_locs = np.linspace(min(scalars), max(scalars), n+1)[:-1]  # Exclude the last tick for n colors\n",
    "#tick_labels = [f'{np.round(scalar, ):.2f}' for scalar in tick_locations]\n",
    "tick_labels = ['{:.3f}'.format(round(scalar, 3)) for scalar in tick_locs]\n",
    "cbar.set_ticks(tick_locs)\n",
    "cbar.set_ticklabels(tick_labels)\n",
    "\n",
    "## Add legend ##\n",
    "# Define custom lines for the legend\n",
    "legend_lines = [\n",
    "    Line2D([0], [0], color='grey', linestyle='-', linewidth=2),\n",
    "    Line2D([0], [0], color='grey', linestyle='dotted', linewidth=2),\n",
    "    Line2D([0], [0], color='grey', linestyle='--', linewidth=2)\n",
    "]\n",
    "legend_labels = ['Disc Rotation Speed', 'm = 2 Pattern Speed', 'Mean Bar Pattern Speed']\n",
    "ax.legend(legend_lines, legend_labels)\n",
    "\n",
    "## Axes limits and labels ##\n",
    "#plt.yscale(\"log\")\n",
    "#plt.ylim(1e-14, 1e-10)\n",
    "plt.ylim(0, 0.1e-10)\n",
    "#plt.xscale(\"log\")    \n",
    "plt.xlabel(\"Radius (pc)\")\n",
    "plt.ylabel(\"Speed (rad/syr)\")\n",
    "\n",
    "## Save and show ##\n",
    "plt.title(\"Determining the Corotation Radius\")\n",
    "plt.savefig(f\"corotation_radius/angular_and_pattern_speed_vs_radius_{all_ages[0][0]:.2f}_{all_ages[-1][0]:.2f}.png\", bbox_inches=\"tight\")\n",
    "print(f\"Saved plot to corotation_radius/angular_and_pattern_speed_vs_radius_{all_ages[0][0]:.2f}_{all_ages[-1][0]:.2f}_linear.png\")\n",
    "plt.show()"
   ]
  },
  {
   "cell_type": "code",
   "execution_count": 121,
   "metadata": {},
   "outputs": [
    {
     "data": {
      "text/plain": [
       "4"
      ]
     },
     "execution_count": 121,
     "metadata": {},
     "output_type": "execute_result"
    }
   ],
   "source": [
    "len(angular_speed_means)"
   ]
  },
  {
   "cell_type": "code",
   "execution_count": null,
   "metadata": {},
   "outputs": [],
   "source": []
  },
  {
   "cell_type": "code",
   "execution_count": null,
   "metadata": {},
   "outputs": [],
   "source": []
  }
 ],
 "metadata": {
  "kernelspec": {
   "display_name": "Python 3",
   "language": "python",
   "name": "python3"
  },
  "language_info": {
   "codemirror_mode": {
    "name": "ipython",
    "version": 3
   },
   "file_extension": ".py",
   "mimetype": "text/x-python",
   "name": "python",
   "nbconvert_exporter": "python",
   "pygments_lexer": "ipython3",
   "version": "3.10.12"
  }
 },
 "nbformat": 4,
 "nbformat_minor": 2
}
